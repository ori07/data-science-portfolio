{
 "cells": [
  {
   "cell_type": "markdown",
   "id": "08d45f59",
   "metadata": {},
   "source": [
    "### Context\n",
    "\n",
    "The number of restaurants in New York is increasing day by day. Lots of students and busy professionals rely on those restaurants due to their hectic lifestyles. Online food delivery service is a great option for them. It provides them with good food from their favorite restaurants. A food aggregator company FoodHub offers access to multiple restaurants through a single smartphone app.\n",
    "\n",
    "The app allows the restaurants to receive a direct online order from a customer. The app assigns a delivery person from the company to pick up the order after it is confirmed by the restaurant. The delivery person then uses the map to reach the restaurant and waits for the food package. Once the food package is handed over to the delivery person, he/she confirms the pick-up in the app and travels to the customer's location to deliver the food. The delivery person confirms the drop-off in the app after delivering the food package to the customer. The customer can rate the order in the app. The food aggregator earns money by collecting a fixed margin of the delivery order from the restaurants.\n",
    "\n",
    "### Objective\n",
    "\n",
    "The food aggregator company has stored the data of the different orders made by the registered customers in their online portal. They want to analyze the data to get a fair idea about the demand of different restaurants which will help them in enhancing their customer experience. Suppose you are hired as a Data Scientist in this company and the Data Science team has shared some of the key questions that need to be answered. Perform the data analysis to find answers to these questions that will help the company to improve the business.\n",
    "\n",
    "### Data Description\n",
    "\n",
    "The data contains the different data related to a food order. The detailed data dictionary is given below.\n",
    "\n",
    "### Data Dictionary\n",
    "\n",
    "* order_id: Unique ID of the order\n",
    "* customer_id: ID of the customer who ordered the food\n",
    "* restaurant_name: Name of the restaurant\n",
    "* cuisine_type: Cuisine ordered by the customer\n",
    "* cost: Cost of the order\n",
    "* day_of_the_week: Indicates whether the order is placed on a weekday or weekend (The weekday is from Monday to Friday and the weekend is Saturday and Sunday)\n",
    "* rating: Rating given by the customer out of 5\n",
    "* food_preparation_time: Time (in minutes) taken by the restaurant to prepare the food. This is calculated by taking the difference between the timestamps of the restaurant's order confirmation and the delivery person's pick-up confirmation.\n",
    "* delivery_time: Time (in minutes) taken by the delivery person to deliver the food package. This is calculated by taking the difference between the timestamps of the delivery person's pick-up confirmation and drop-off information"
   ]
  },
  {
   "cell_type": "markdown",
   "id": "6c63245f",
   "metadata": {},
   "source": [
    "### Importing the required libraries"
   ]
  },
  {
   "cell_type": "code",
   "execution_count": 16,
   "id": "c38fda7a",
   "metadata": {},
   "outputs": [],
   "source": [
    "# import libraries for data manipulation\n",
    "import numpy as np\n",
    "import pandas as pd\n",
    "\n",
    "# import libraries for data visualization\n",
    "import matplotlib.pyplot as plt\n",
    "import seaborn as sns"
   ]
  },
  {
   "cell_type": "code",
   "execution_count": 17,
   "id": "36b6ad0c",
   "metadata": {},
   "outputs": [
    {
     "data": {
      "application/vnd.microsoft.datawrangler.viewer.v0+json": {
       "columns": [
        {
         "name": "index",
         "rawType": "int64",
         "type": "integer"
        },
        {
         "name": "order_id",
         "rawType": "int64",
         "type": "integer"
        },
        {
         "name": "customer_id",
         "rawType": "int64",
         "type": "integer"
        },
        {
         "name": "restaurant_name",
         "rawType": "object",
         "type": "string"
        },
        {
         "name": "cuisine_type",
         "rawType": "object",
         "type": "string"
        },
        {
         "name": "cost_of_the_order",
         "rawType": "float64",
         "type": "float"
        },
        {
         "name": "day_of_the_week",
         "rawType": "object",
         "type": "string"
        },
        {
         "name": "rating",
         "rawType": "object",
         "type": "string"
        },
        {
         "name": "food_preparation_time",
         "rawType": "int64",
         "type": "integer"
        },
        {
         "name": "delivery_time",
         "rawType": "int64",
         "type": "integer"
        }
       ],
       "ref": "af849ce8-af6a-4968-bce9-02ad3ac75303",
       "rows": [
        [
         "0",
         "1477147",
         "337525",
         "Hangawi",
         "Korean",
         "30.75",
         "Weekend",
         "Not given",
         "25",
         "20"
        ],
        [
         "1",
         "1477685",
         "358141",
         "Blue Ribbon Sushi Izakaya",
         "Japanese",
         "12.08",
         "Weekend",
         "Not given",
         "25",
         "23"
        ],
        [
         "2",
         "1477070",
         "66393",
         "Cafe Habana",
         "Mexican",
         "12.23",
         "Weekday",
         "5",
         "23",
         "28"
        ],
        [
         "3",
         "1477334",
         "106968",
         "Blue Ribbon Fried Chicken",
         "American",
         "29.2",
         "Weekend",
         "3",
         "25",
         "15"
        ],
        [
         "4",
         "1478249",
         "76942",
         "Dirty Bird to Go",
         "American",
         "11.59",
         "Weekday",
         "4",
         "25",
         "24"
        ]
       ],
       "shape": {
        "columns": 9,
        "rows": 5
       }
      },
      "text/html": [
       "<div>\n",
       "<style scoped>\n",
       "    .dataframe tbody tr th:only-of-type {\n",
       "        vertical-align: middle;\n",
       "    }\n",
       "\n",
       "    .dataframe tbody tr th {\n",
       "        vertical-align: top;\n",
       "    }\n",
       "\n",
       "    .dataframe thead th {\n",
       "        text-align: right;\n",
       "    }\n",
       "</style>\n",
       "<table border=\"1\" class=\"dataframe\">\n",
       "  <thead>\n",
       "    <tr style=\"text-align: right;\">\n",
       "      <th></th>\n",
       "      <th>order_id</th>\n",
       "      <th>customer_id</th>\n",
       "      <th>restaurant_name</th>\n",
       "      <th>cuisine_type</th>\n",
       "      <th>cost_of_the_order</th>\n",
       "      <th>day_of_the_week</th>\n",
       "      <th>rating</th>\n",
       "      <th>food_preparation_time</th>\n",
       "      <th>delivery_time</th>\n",
       "    </tr>\n",
       "  </thead>\n",
       "  <tbody>\n",
       "    <tr>\n",
       "      <th>0</th>\n",
       "      <td>1477147</td>\n",
       "      <td>337525</td>\n",
       "      <td>Hangawi</td>\n",
       "      <td>Korean</td>\n",
       "      <td>30.75</td>\n",
       "      <td>Weekend</td>\n",
       "      <td>Not given</td>\n",
       "      <td>25</td>\n",
       "      <td>20</td>\n",
       "    </tr>\n",
       "    <tr>\n",
       "      <th>1</th>\n",
       "      <td>1477685</td>\n",
       "      <td>358141</td>\n",
       "      <td>Blue Ribbon Sushi Izakaya</td>\n",
       "      <td>Japanese</td>\n",
       "      <td>12.08</td>\n",
       "      <td>Weekend</td>\n",
       "      <td>Not given</td>\n",
       "      <td>25</td>\n",
       "      <td>23</td>\n",
       "    </tr>\n",
       "    <tr>\n",
       "      <th>2</th>\n",
       "      <td>1477070</td>\n",
       "      <td>66393</td>\n",
       "      <td>Cafe Habana</td>\n",
       "      <td>Mexican</td>\n",
       "      <td>12.23</td>\n",
       "      <td>Weekday</td>\n",
       "      <td>5</td>\n",
       "      <td>23</td>\n",
       "      <td>28</td>\n",
       "    </tr>\n",
       "    <tr>\n",
       "      <th>3</th>\n",
       "      <td>1477334</td>\n",
       "      <td>106968</td>\n",
       "      <td>Blue Ribbon Fried Chicken</td>\n",
       "      <td>American</td>\n",
       "      <td>29.20</td>\n",
       "      <td>Weekend</td>\n",
       "      <td>3</td>\n",
       "      <td>25</td>\n",
       "      <td>15</td>\n",
       "    </tr>\n",
       "    <tr>\n",
       "      <th>4</th>\n",
       "      <td>1478249</td>\n",
       "      <td>76942</td>\n",
       "      <td>Dirty Bird to Go</td>\n",
       "      <td>American</td>\n",
       "      <td>11.59</td>\n",
       "      <td>Weekday</td>\n",
       "      <td>4</td>\n",
       "      <td>25</td>\n",
       "      <td>24</td>\n",
       "    </tr>\n",
       "  </tbody>\n",
       "</table>\n",
       "</div>"
      ],
      "text/plain": [
       "   order_id  customer_id            restaurant_name cuisine_type  \\\n",
       "0   1477147       337525                    Hangawi       Korean   \n",
       "1   1477685       358141  Blue Ribbon Sushi Izakaya     Japanese   \n",
       "2   1477070        66393                Cafe Habana      Mexican   \n",
       "3   1477334       106968  Blue Ribbon Fried Chicken     American   \n",
       "4   1478249        76942           Dirty Bird to Go     American   \n",
       "\n",
       "   cost_of_the_order day_of_the_week     rating  food_preparation_time  \\\n",
       "0              30.75         Weekend  Not given                     25   \n",
       "1              12.08         Weekend  Not given                     25   \n",
       "2              12.23         Weekday          5                     23   \n",
       "3              29.20         Weekend          3                     25   \n",
       "4              11.59         Weekday          4                     25   \n",
       "\n",
       "   delivery_time  \n",
       "0             20  \n",
       "1             23  \n",
       "2             28  \n",
       "3             15  \n",
       "4             24  "
      ]
     },
     "execution_count": 17,
     "metadata": {},
     "output_type": "execute_result"
    }
   ],
   "source": [
    "# read the data\n",
    "data = pd.read_csv('data/foodhub_order.csv')\n",
    "# Copying data to another variable to avoid any changes to the original data\n",
    "df = data.copy()\n",
    "# returns the first 5 rows\n",
    "df.head()"
   ]
  },
  {
   "cell_type": "code",
   "execution_count": 18,
   "id": "9cfbca6a",
   "metadata": {},
   "outputs": [
    {
     "name": "stdout",
     "output_type": "stream",
     "text": [
      "customer_id\n",
      "52832     13\n",
      "47440     10\n",
      "83287      9\n",
      "250494     8\n",
      "259341     7\n",
      "          ..\n",
      "143926     1\n",
      "89574      1\n",
      "157711     1\n",
      "66393      1\n",
      "358141     1\n",
      "Name: count, Length: 1200, dtype: int64\n",
      "--------------------------------------------------\n"
     ]
    }
   ],
   "source": [
    "# Printing number of count of each unique value in customer_id\n",
    "print(df['customer_id'].value_counts())\n",
    "print('-' * 50)"
   ]
  },
  {
   "cell_type": "markdown",
   "id": "83aacf78",
   "metadata": {},
   "source": [
    "#### Observations:\n",
    "\n",
    "The DataFrame has 9 columns as mentioned in the Data Dictionary. Data in each row corresponds to the order placed by a customer.\n",
    "\n",
    "The rating has a non numerical value: 'Not given'.\n",
    "\n",
    "The column day_of_the_week is a categorical variable.\n",
    "\n",
    "The column customer_id in this context represents a categorical variable.\n",
    "The above output shows which of the customer could be a potencial loyal client of the application.\n",
    "\n",
    "The column order_id doesn't add valuable information for the problem context"
   ]
  },
  {
   "cell_type": "code",
   "execution_count": 19,
   "id": "7a3c35a0",
   "metadata": {},
   "outputs": [
    {
     "data": {
      "text/plain": [
       "(1898, 9)"
      ]
     },
     "execution_count": 19,
     "metadata": {},
     "output_type": "execute_result"
    }
   ],
   "source": [
    "df.shape"
   ]
  },
  {
   "cell_type": "markdown",
   "id": "29d7ec96",
   "metadata": {},
   "source": [
    "The dataframe contains 1898 rows and 9 columns"
   ]
  },
  {
   "cell_type": "code",
   "execution_count": 20,
   "id": "da398cef",
   "metadata": {},
   "outputs": [
    {
     "name": "stdout",
     "output_type": "stream",
     "text": [
      "<class 'pandas.core.frame.DataFrame'>\n",
      "RangeIndex: 1898 entries, 0 to 1897\n",
      "Data columns (total 9 columns):\n",
      " #   Column                 Non-Null Count  Dtype  \n",
      "---  ------                 --------------  -----  \n",
      " 0   order_id               1898 non-null   int64  \n",
      " 1   customer_id            1898 non-null   int64  \n",
      " 2   restaurant_name        1898 non-null   object \n",
      " 3   cuisine_type           1898 non-null   object \n",
      " 4   cost_of_the_order      1898 non-null   float64\n",
      " 5   day_of_the_week        1898 non-null   object \n",
      " 6   rating                 1898 non-null   object \n",
      " 7   food_preparation_time  1898 non-null   int64  \n",
      " 8   delivery_time          1898 non-null   int64  \n",
      "dtypes: float64(1), int64(4), object(4)\n",
      "memory usage: 133.6+ KB\n"
     ]
    }
   ],
   "source": [
    "df.info()"
   ]
  },
  {
   "cell_type": "markdown",
   "id": "c314a4e7",
   "metadata": {},
   "source": [
    "#### Observations:\n",
    "\n",
    "* All columns have 1898 observations. This indicates that there aren't 'Null' values presents.\n",
    "* The columns order_id, customer_id, food_preparation_time and delivery time are integers data types.\n",
    "* The columns restaurant_name, cuisine_type, day_of_the_week and rating are object data type.\n",
    "* The column cost_of_the_order is a float data type."
   ]
  },
  {
   "cell_type": "code",
   "execution_count": 21,
   "id": "e5b1372a",
   "metadata": {},
   "outputs": [
    {
     "data": {
      "application/vnd.microsoft.datawrangler.viewer.v0+json": {
       "columns": [
        {
         "name": "index",
         "rawType": "object",
         "type": "string"
        },
        {
         "name": "0",
         "rawType": "int64",
         "type": "integer"
        }
       ],
       "ref": "76df7021-32cc-4c6d-af67-853fa2b7de16",
       "rows": [
        [
         "order_id",
         "0"
        ],
        [
         "customer_id",
         "0"
        ],
        [
         "restaurant_name",
         "0"
        ],
        [
         "cuisine_type",
         "0"
        ],
        [
         "cost_of_the_order",
         "0"
        ],
        [
         "day_of_the_week",
         "0"
        ],
        [
         "rating",
         "0"
        ],
        [
         "food_preparation_time",
         "0"
        ],
        [
         "delivery_time",
         "0"
        ]
       ],
       "shape": {
        "columns": 1,
        "rows": 9
       }
      },
      "text/plain": [
       "order_id                 0\n",
       "customer_id              0\n",
       "restaurant_name          0\n",
       "cuisine_type             0\n",
       "cost_of_the_order        0\n",
       "day_of_the_week          0\n",
       "rating                   0\n",
       "food_preparation_time    0\n",
       "delivery_time            0\n",
       "dtype: int64"
      ]
     },
     "execution_count": 21,
     "metadata": {},
     "output_type": "execute_result"
    }
   ],
   "source": [
    "df.isnull().sum()"
   ]
  },
  {
   "cell_type": "markdown",
   "id": "28368ab1",
   "metadata": {},
   "source": [
    "* There are no missing values in the data."
   ]
  },
  {
   "cell_type": "code",
   "execution_count": 22,
   "id": "d5afa285",
   "metadata": {},
   "outputs": [
    {
     "data": {
      "application/vnd.microsoft.datawrangler.viewer.v0+json": {
       "columns": [
        {
         "name": "index",
         "rawType": "object",
         "type": "string"
        },
        {
         "name": "count",
         "rawType": "float64",
         "type": "float"
        },
        {
         "name": "mean",
         "rawType": "float64",
         "type": "float"
        },
        {
         "name": "std",
         "rawType": "float64",
         "type": "float"
        },
        {
         "name": "min",
         "rawType": "float64",
         "type": "float"
        },
        {
         "name": "25%",
         "rawType": "float64",
         "type": "float"
        },
        {
         "name": "50%",
         "rawType": "float64",
         "type": "float"
        },
        {
         "name": "75%",
         "rawType": "float64",
         "type": "float"
        },
        {
         "name": "max",
         "rawType": "float64",
         "type": "float"
        }
       ],
       "ref": "741e471a-042d-47c1-b434-2e9c61f74c5c",
       "rows": [
        [
         "customer_id",
         "1898.0",
         "171168.478398314",
         "113698.13974303949",
         "1311.0",
         "77787.75",
         "128600.0",
         "270525.0",
         "405334.0"
        ],
        [
         "cost_of_the_order",
         "1898.0",
         "16.498851422550054",
         "7.48381211004957",
         "4.47",
         "12.08",
         "14.14",
         "22.2975",
         "35.41"
        ],
        [
         "food_preparation_time",
         "1898.0",
         "27.371970495258168",
         "4.6324807759288555",
         "20.0",
         "23.0",
         "27.0",
         "31.0",
         "35.0"
        ],
        [
         "delivery_time",
         "1898.0",
         "24.161749209694417",
         "4.972636933991106",
         "15.0",
         "20.0",
         "25.0",
         "28.0",
         "33.0"
        ]
       ],
       "shape": {
        "columns": 8,
        "rows": 4
       }
      },
      "text/html": [
       "<div>\n",
       "<style scoped>\n",
       "    .dataframe tbody tr th:only-of-type {\n",
       "        vertical-align: middle;\n",
       "    }\n",
       "\n",
       "    .dataframe tbody tr th {\n",
       "        vertical-align: top;\n",
       "    }\n",
       "\n",
       "    .dataframe thead th {\n",
       "        text-align: right;\n",
       "    }\n",
       "</style>\n",
       "<table border=\"1\" class=\"dataframe\">\n",
       "  <thead>\n",
       "    <tr style=\"text-align: right;\">\n",
       "      <th></th>\n",
       "      <th>count</th>\n",
       "      <th>mean</th>\n",
       "      <th>std</th>\n",
       "      <th>min</th>\n",
       "      <th>25%</th>\n",
       "      <th>50%</th>\n",
       "      <th>75%</th>\n",
       "      <th>max</th>\n",
       "    </tr>\n",
       "  </thead>\n",
       "  <tbody>\n",
       "    <tr>\n",
       "      <th>customer_id</th>\n",
       "      <td>1898.0</td>\n",
       "      <td>171168.478398</td>\n",
       "      <td>113698.139743</td>\n",
       "      <td>1311.00</td>\n",
       "      <td>77787.75</td>\n",
       "      <td>128600.00</td>\n",
       "      <td>270525.0000</td>\n",
       "      <td>405334.00</td>\n",
       "    </tr>\n",
       "    <tr>\n",
       "      <th>cost_of_the_order</th>\n",
       "      <td>1898.0</td>\n",
       "      <td>16.498851</td>\n",
       "      <td>7.483812</td>\n",
       "      <td>4.47</td>\n",
       "      <td>12.08</td>\n",
       "      <td>14.14</td>\n",
       "      <td>22.2975</td>\n",
       "      <td>35.41</td>\n",
       "    </tr>\n",
       "    <tr>\n",
       "      <th>food_preparation_time</th>\n",
       "      <td>1898.0</td>\n",
       "      <td>27.371970</td>\n",
       "      <td>4.632481</td>\n",
       "      <td>20.00</td>\n",
       "      <td>23.00</td>\n",
       "      <td>27.00</td>\n",
       "      <td>31.0000</td>\n",
       "      <td>35.00</td>\n",
       "    </tr>\n",
       "    <tr>\n",
       "      <th>delivery_time</th>\n",
       "      <td>1898.0</td>\n",
       "      <td>24.161749</td>\n",
       "      <td>4.972637</td>\n",
       "      <td>15.00</td>\n",
       "      <td>20.00</td>\n",
       "      <td>25.00</td>\n",
       "      <td>28.0000</td>\n",
       "      <td>33.00</td>\n",
       "    </tr>\n",
       "  </tbody>\n",
       "</table>\n",
       "</div>"
      ],
      "text/plain": [
       "                        count           mean            std      min  \\\n",
       "customer_id            1898.0  171168.478398  113698.139743  1311.00   \n",
       "cost_of_the_order      1898.0      16.498851       7.483812     4.47   \n",
       "food_preparation_time  1898.0      27.371970       4.632481    20.00   \n",
       "delivery_time          1898.0      24.161749       4.972637    15.00   \n",
       "\n",
       "                            25%        50%          75%        max  \n",
       "customer_id            77787.75  128600.00  270525.0000  405334.00  \n",
       "cost_of_the_order         12.08      14.14      22.2975      35.41  \n",
       "food_preparation_time     23.00      27.00      31.0000      35.00  \n",
       "delivery_time             20.00      25.00      28.0000      33.00  "
      ]
     },
     "execution_count": 22,
     "metadata": {},
     "output_type": "execute_result"
    }
   ],
   "source": [
    "# Since order_id doesn't add valuable information it will be droped\n",
    "df = df.drop('order_id', axis=1)\n",
    "#Calculate the statistical summary for numerical columns\n",
    "df.describe().T"
   ]
  },
  {
   "cell_type": "code",
   "execution_count": 23,
   "id": "091ea916",
   "metadata": {},
   "outputs": [
    {
     "data": {
      "application/vnd.microsoft.datawrangler.viewer.v0+json": {
       "columns": [
        {
         "name": "index",
         "rawType": "object",
         "type": "string"
        },
        {
         "name": "count",
         "rawType": "object",
         "type": "unknown"
        },
        {
         "name": "unique",
         "rawType": "object",
         "type": "unknown"
        },
        {
         "name": "top",
         "rawType": "object",
         "type": "string"
        },
        {
         "name": "freq",
         "rawType": "object",
         "type": "unknown"
        }
       ],
       "ref": "096f8bde-0220-4bcd-858f-f3b0d2c522bf",
       "rows": [
        [
         "restaurant_name",
         "1898",
         "178",
         "Shake Shack",
         "219"
        ],
        [
         "cuisine_type",
         "1898",
         "14",
         "American",
         "584"
        ],
        [
         "day_of_the_week",
         "1898",
         "2",
         "Weekend",
         "1351"
        ],
        [
         "rating",
         "1898",
         "4",
         "Not given",
         "736"
        ]
       ],
       "shape": {
        "columns": 4,
        "rows": 4
       }
      },
      "text/html": [
       "<div>\n",
       "<style scoped>\n",
       "    .dataframe tbody tr th:only-of-type {\n",
       "        vertical-align: middle;\n",
       "    }\n",
       "\n",
       "    .dataframe tbody tr th {\n",
       "        vertical-align: top;\n",
       "    }\n",
       "\n",
       "    .dataframe thead th {\n",
       "        text-align: right;\n",
       "    }\n",
       "</style>\n",
       "<table border=\"1\" class=\"dataframe\">\n",
       "  <thead>\n",
       "    <tr style=\"text-align: right;\">\n",
       "      <th></th>\n",
       "      <th>count</th>\n",
       "      <th>unique</th>\n",
       "      <th>top</th>\n",
       "      <th>freq</th>\n",
       "    </tr>\n",
       "  </thead>\n",
       "  <tbody>\n",
       "    <tr>\n",
       "      <th>restaurant_name</th>\n",
       "      <td>1898</td>\n",
       "      <td>178</td>\n",
       "      <td>Shake Shack</td>\n",
       "      <td>219</td>\n",
       "    </tr>\n",
       "    <tr>\n",
       "      <th>cuisine_type</th>\n",
       "      <td>1898</td>\n",
       "      <td>14</td>\n",
       "      <td>American</td>\n",
       "      <td>584</td>\n",
       "    </tr>\n",
       "    <tr>\n",
       "      <th>day_of_the_week</th>\n",
       "      <td>1898</td>\n",
       "      <td>2</td>\n",
       "      <td>Weekend</td>\n",
       "      <td>1351</td>\n",
       "    </tr>\n",
       "    <tr>\n",
       "      <th>rating</th>\n",
       "      <td>1898</td>\n",
       "      <td>4</td>\n",
       "      <td>Not given</td>\n",
       "      <td>736</td>\n",
       "    </tr>\n",
       "  </tbody>\n",
       "</table>\n",
       "</div>"
      ],
      "text/plain": [
       "                count unique          top  freq\n",
       "restaurant_name  1898    178  Shake Shack   219\n",
       "cuisine_type     1898     14     American   584\n",
       "day_of_the_week  1898      2      Weekend  1351\n",
       "rating           1898      4    Not given   736"
      ]
     },
     "execution_count": 23,
     "metadata": {},
     "output_type": "execute_result"
    }
   ],
   "source": [
    "df.describe(exclude = 'number').T"
   ]
  },
  {
   "cell_type": "markdown",
   "id": "82b55da1",
   "metadata": {},
   "source": [
    "#### Observations:\n",
    "\n",
    "\n",
    "*   The minimun time that takes for food to be prepared is 20 min\n",
    "*   The average time that takes for food to be prepared is 27 min\n",
    "*   The maximun time that takes for food to be prepared is 35 min"
   ]
  },
  {
   "cell_type": "code",
   "execution_count": 24,
   "id": "89f67e27",
   "metadata": {},
   "outputs": [
    {
     "name": "stdout",
     "output_type": "stream",
     "text": [
      "rating\n",
      "Not given    736\n",
      "Name: count, dtype: int64\n",
      "--------------------------------------------------\n"
     ]
    }
   ],
   "source": [
    "order_no_rating = df[df['rating'] == 'Not given']\n",
    "print(order_no_rating['rating'].value_counts())\n",
    "print('-' * 50)"
   ]
  },
  {
   "cell_type": "markdown",
   "id": "0a944fb9",
   "metadata": {},
   "source": [
    "#### Observations:\n",
    "There are 736 order not rated from a total of 1898 orders. That is a 38.8% of the orders in the sample are not rated."
   ]
  }
 ],
 "metadata": {
  "kernelspec": {
   "display_name": "Python (ds-env)",
   "language": "python",
   "name": "venv"
  },
  "language_info": {
   "codemirror_mode": {
    "name": "ipython",
    "version": 3
   },
   "file_extension": ".py",
   "mimetype": "text/x-python",
   "name": "python",
   "nbconvert_exporter": "python",
   "pygments_lexer": "ipython3",
   "version": "3.9.13"
  }
 },
 "nbformat": 4,
 "nbformat_minor": 5
}
