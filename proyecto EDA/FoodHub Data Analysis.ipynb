{
 "cells": [
  {
   "cell_type": "markdown",
   "id": "08d45f59",
   "metadata": {},
   "source": [
    "### Context\n",
    "\n",
    "The number of restaurants in New York is increasing day by day. Lots of students and busy professionals rely on those restaurants due to their hectic lifestyles. Online food delivery service is a great option for them. It provides them with good food from their favorite restaurants. A food aggregator company FoodHub offers access to multiple restaurants through a single smartphone app.\n",
    "\n",
    "The app allows the restaurants to receive a direct online order from a customer. The app assigns a delivery person from the company to pick up the order after it is confirmed by the restaurant. The delivery person then uses the map to reach the restaurant and waits for the food package. Once the food package is handed over to the delivery person, he/she confirms the pick-up in the app and travels to the customer's location to deliver the food. The delivery person confirms the drop-off in the app after delivering the food package to the customer. The customer can rate the order in the app. The food aggregator earns money by collecting a fixed margin of the delivery order from the restaurants.\n",
    "\n",
    "### Objective\n",
    "\n",
    "The food aggregator company has stored the data of the different orders made by the registered customers in their online portal. They want to analyze the data to get a fair idea about the demand of different restaurants which will help them in enhancing their customer experience. Suppose you are hired as a Data Scientist in this company and the Data Science team has shared some of the key questions that need to be answered. Perform the data analysis to find answers to these questions that will help the company to improve the business.\n",
    "\n",
    "### Data Description\n",
    "\n",
    "The data contains the different data related to a food order. The detailed data dictionary is given below.\n",
    "\n",
    "### Data Dictionary\n",
    "\n",
    "* order_id: Unique ID of the order\n",
    "* customer_id: ID of the customer who ordered the food\n",
    "* restaurant_name: Name of the restaurant\n",
    "* cuisine_type: Cuisine ordered by the customer\n",
    "* cost: Cost of the order\n",
    "* day_of_the_week: Indicates whether the order is placed on a weekday or weekend (The weekday is from Monday to Friday and the weekend is Saturday and Sunday)\n",
    "* rating: Rating given by the customer out of 5\n",
    "* food_preparation_time: Time (in minutes) taken by the restaurant to prepare the food. This is calculated by taking the difference between the timestamps of the restaurant's order confirmation and the delivery person's pick-up confirmation.\n",
    "* delivery_time: Time (in minutes) taken by the delivery person to deliver the food package. This is calculated by taking the difference between the timestamps of the delivery person's pick-up confirmation and drop-off information"
   ]
  },
  {
   "cell_type": "markdown",
   "id": "6c63245f",
   "metadata": {},
   "source": [
    "### Importing the required libraries"
   ]
  },
  {
   "cell_type": "code",
   "execution_count": null,
   "id": "c38fda7a",
   "metadata": {},
   "outputs": [],
   "source": [
    "# import libraries for data manipulation\n",
    "import numpy as np\n",
    "import pandas as pd\n",
    "\n",
    "# import libraries for data visualization\n",
    "import matplotlib.pyplot as plt\n",
    "import seaborn as sns"
   ]
  },
  {
   "cell_type": "code",
   "execution_count": null,
   "id": "36b6ad0c",
   "metadata": {},
   "outputs": [],
   "source": [
    "# read the data\n",
    "data = pd.read_csv('data/foodhub_order.csv')\n",
    "# Copying data to another variable to avoid any changes to the original data\n",
    "df = data.copy()\n",
    "# returns the first 5 rows\n",
    "df.head()"
   ]
  },
  {
   "cell_type": "code",
   "execution_count": null,
   "id": "9cfbca6a",
   "metadata": {},
   "outputs": [],
   "source": [
    "# Printing number of count of each unique value in customer_id\n",
    "print(df['customer_id'].value_counts())\n",
    "print('-' * 50)"
   ]
  },
  {
   "cell_type": "markdown",
   "id": "83aacf78",
   "metadata": {},
   "source": [
    "#### Observations:\n",
    "\n",
    "The DataFrame has 9 columns as mentioned in the Data Dictionary. Data in each row corresponds to the order placed by a customer.\n",
    "\n",
    "The rating has a non numerical value: 'Not given'.\n",
    "\n",
    "The column day_of_the_week is a categorical variable.\n",
    "\n",
    "The column customer_id in this context represents a categorical variable.\n",
    "The above output shows which of the customer could be a potencial loyal client of the application.\n",
    "\n",
    "The column order_id doesn't add valuable information for the problem context"
   ]
  },
  {
   "cell_type": "code",
   "execution_count": null,
   "id": "7a3c35a0",
   "metadata": {},
   "outputs": [],
   "source": [
    "df.shape"
   ]
  },
  {
   "cell_type": "markdown",
   "id": "29d7ec96",
   "metadata": {},
   "source": [
    "The dataframe contains 1898 rows and 9 columns"
   ]
  },
  {
   "cell_type": "code",
   "execution_count": null,
   "id": "da398cef",
   "metadata": {},
   "outputs": [],
   "source": [
    "df.info()"
   ]
  },
  {
   "cell_type": "markdown",
   "id": "c314a4e7",
   "metadata": {},
   "source": [
    "#### Observations:\n",
    "\n",
    "* All columns have 1898 observations. This indicates that there aren't 'Null' values presents.\n",
    "* The columns order_id, customer_id, food_preparation_time and delivery time are integers data types.\n",
    "* The columns restaurant_name, cuisine_type, day_of_the_week and rating are object data type.\n",
    "* The column cost_of_the_order is a float data type."
   ]
  },
  {
   "cell_type": "code",
   "execution_count": null,
   "id": "e5b1372a",
   "metadata": {},
   "outputs": [],
   "source": [
    "df.isnull().sum()"
   ]
  },
  {
   "cell_type": "markdown",
   "id": "28368ab1",
   "metadata": {},
   "source": [
    "* There are no missing values in the data."
   ]
  },
  {
   "cell_type": "code",
   "execution_count": null,
   "id": "d5afa285",
   "metadata": {},
   "outputs": [],
   "source": [
    "# Since order_id doesn't add valuable information it will be droped\n",
    "df = df.drop('order_id', axis=1)\n",
    "#Calculate the statistical summary for numerical columns\n",
    "df.describe().T"
   ]
  },
  {
   "cell_type": "code",
   "execution_count": null,
   "id": "091ea916",
   "metadata": {},
   "outputs": [],
   "source": [
    "df.describe(exclude = 'number').T"
   ]
  },
  {
   "cell_type": "markdown",
   "id": "82b55da1",
   "metadata": {},
   "source": [
    "#### Observations:\n",
    "\n",
    "\n",
    "*   The minimun time that takes for food to be prepared is 20 min\n",
    "*   The average time that takes for food to be prepared is 27 min\n",
    "*   The maximun time that takes for food to be prepared is 35 min"
   ]
  },
  {
   "cell_type": "code",
   "execution_count": null,
   "id": "89f67e27",
   "metadata": {},
   "outputs": [],
   "source": [
    "order_no_rating = df[df['rating'] == 'Not given']\n",
    "print(order_no_rating['rating'].value_counts())\n",
    "print('-' * 50)"
   ]
  },
  {
   "cell_type": "markdown",
   "id": "0a944fb9",
   "metadata": {},
   "source": [
    "#### Observations:\n",
    "There are 736 order not rated from a total of 1898 orders. That is a 38.8% of the orders in the sample are not rated."
   ]
  },
  {
   "cell_type": "markdown",
   "id": "cd351144",
   "metadata": {},
   "source": [
    "### Exploratory Data Analysis (EDA)"
   ]
  },
  {
   "cell_type": "markdown",
   "id": "ccf88e15",
   "metadata": {},
   "source": [
    "### Univariate Analysis"
   ]
  },
  {
   "cell_type": "code",
   "execution_count": null,
   "id": "48142d81",
   "metadata": {},
   "outputs": [],
   "source": [
    "num_cols = ['cost_of_the_order', 'food_preparation_time', 'delivery_time']\n",
    "cat_cols = ['customer_id', 'restaurant_name', 'cuisine_type', 'day_of_the_week', 'rating']\n",
    "\n",
    "def histogram_boxplot(feature, figsize=(15, 10), bins=\"auto\"):\n",
    "    \"\"\" Boxplot and histogram combined\n",
    "    feature: 1-d feature array\n",
    "    figsize: size of fig (default (15, 10))\n",
    "    bins: number of bins (default \"auto\")\n",
    "    \"\"\"\n",
    "    f, (ax_box, ax_hist) = plt.subplots( # Crea un grid de figuras\n",
    "        nrows=2,  # Number of rows of the subplot grid\n",
    "        sharex=True,  # The X-axis will be shared among all the subplots\n",
    "        gridspec_kw={\"height_ratios\": (.25, .75)}, # Distribucion de las figuras (25% y 75%)\n",
    "        figsize=figsize\n",
    "    )\n",
    "\n",
    "    # Creating the subplots\n",
    "    # Boxplot will be created and the mean value of the column will be indicated using some symbol\n",
    "    sns.boxplot(x=feature, ax=ax_box, showmeans=True, color='red')\n",
    "\n",
    "    # For histogram\n",
    "    sns.histplot(x=feature, kde=True, ax=ax_hist, bins=bins)\n",
    "    ax_hist.axvline(np.mean(feature), color='g', linestyle='--')      # Add mean to the histogram\n",
    "    ax_hist.axvline(np.median(feature), color='black', linestyle='-') # Add median to the histogram\n",
    "\n",
    "    plt.show()"
   ]
  },
  {
   "cell_type": "markdown",
   "id": "ce9cc429",
   "metadata": {},
   "source": [
    "#### **Observations on cost of orders**"
   ]
  },
  {
   "cell_type": "code",
   "execution_count": null,
   "id": "afdb58ba",
   "metadata": {},
   "outputs": [],
   "source": [
    "histogram_boxplot(df.cost_of_the_order)"
   ]
  },
  {
   "cell_type": "markdown",
   "id": "d2ba8b39",
   "metadata": {},
   "source": [
    "**Observations:**\n",
    "* The distribution of cost_of_order is little left-skewed.\n",
    "* Median cost_of_the_order is  ~14.14, but the mean is ~16.\n",
    "* There are not outliers in this variable.\n",
    "* The most cost_of_order are at the lower end, between 12 and the mean (~16)."
   ]
  },
  {
   "cell_type": "markdown",
   "id": "96284e3c",
   "metadata": {},
   "source": [
    "#### **Observations on delivery_time**"
   ]
  },
  {
   "cell_type": "code",
   "execution_count": null,
   "id": "b9078a2c",
   "metadata": {},
   "outputs": [],
   "source": [
    "histogram_boxplot(df.delivery_time)"
   ]
  },
  {
   "cell_type": "markdown",
   "id": "b315f192",
   "metadata": {},
   "source": [
    "**Observations:**\n",
    "* The distribution of delivery_time is a bit right skewed.\n",
    "* The peaks could be related to the type of cuisine.\n",
    "* Median= 25 and the mean= 24 are close.\n",
    "* There are not outliers in this variable."
   ]
  },
  {
   "cell_type": "markdown",
   "id": "dae7c1ad",
   "metadata": {},
   "source": [
    "#### **Let's explore the categorical variables**"
   ]
  },
  {
   "cell_type": "code",
   "execution_count": null,
   "id": "6dc0cbe2",
   "metadata": {},
   "outputs": [],
   "source": [
    "def bar_perc(data, z):\n",
    "    total = len(data[z]) # Length of the column\n",
    "    plt.figure(figsize = (15, 5))\n",
    "\n",
    "    # Convert the column to a categorical data type\n",
    "    data[z] = data[z].astype('category')\n",
    "\n",
    "    ax = sns.countplot(x=z, data=data, palette='Paired', order=data[z].value_counts().index)\n",
    "\n",
    "    for p in ax.patches:\n",
    "        percentage = '{:.1f}%'.format(100 * p.get_height() / total) # Percentage of each class\n",
    "        x = p.get_x() + p.get_width() / 2 - 0.05                    # Width of the plot\n",
    "        y = p.get_y() + p.get_height()                              # Height of the plot\n",
    "        ax.annotate(percentage, (x, y), size = 12)                  # Annotate the percentage\n",
    "\n",
    "    plt.show()"
   ]
  },
  {
   "cell_type": "markdown",
   "id": "c65fb6dc",
   "metadata": {},
   "source": [
    "#### **Observations on Cuisine Type**"
   ]
  },
  {
   "cell_type": "code",
   "execution_count": null,
   "id": "85cdebd1",
   "metadata": {},
   "outputs": [],
   "source": [
    "bar_perc(df, 'cuisine_type')"
   ]
  },
  {
   "cell_type": "markdown",
   "id": "67cf8cc3",
   "metadata": {},
   "source": [
    "**Observation:**\n",
    "\n",
    "* The four most popular cuisine types are the American, Japanese, Italian and Chinese, concentrating around 80% of the orders.\n",
    "* The others cuisine type (10 types) are less frequently ordered."
   ]
  },
  {
   "cell_type": "markdown",
   "id": "eb3b8651",
   "metadata": {},
   "source": [
    "#### **Observations on Day of the Week**"
   ]
  },
  {
   "cell_type": "code",
   "execution_count": null,
   "id": "d85be5c1",
   "metadata": {},
   "outputs": [],
   "source": [
    "bar_perc(df, 'day_of_the_week')"
   ]
  },
  {
   "cell_type": "markdown",
   "id": "e8142d45",
   "metadata": {},
   "source": [
    "**Observation:**\n",
    "\n",
    "* The most of the order are made on weekends, concentrating around 71% of the orders."
   ]
  },
  {
   "cell_type": "markdown",
   "id": "bae69053",
   "metadata": {},
   "source": [
    "#### **Observations on Rating**"
   ]
  },
  {
   "cell_type": "code",
   "execution_count": null,
   "id": "3e2f3b52",
   "metadata": {},
   "outputs": [],
   "source": [
    "bar_perc(df, 'rating')"
   ]
  },
  {
   "cell_type": "markdown",
   "id": "f5cfd5c1",
   "metadata": {},
   "source": [
    "**Observation:**\n",
    "\n",
    "* A significant portion of orders —38.8%— were not rated by customers.\n",
    "* The restaurants with a positive rating (4-5) represents the 51% of the orders."
   ]
  },
  {
   "cell_type": "markdown",
   "id": "dad70525",
   "metadata": {},
   "source": [
    " **Top 5 restaurants in terms of the number of orders received**"
   ]
  },
  {
   "cell_type": "code",
   "execution_count": null,
   "id": "eba89c2c",
   "metadata": {},
   "outputs": [],
   "source": [
    "df['restaurant_name'].value_counts().head()"
   ]
  },
  {
   "cell_type": "markdown",
   "id": "32b2e4e2",
   "metadata": {},
   "source": [
    "#### Observations:\n",
    "\n",
    "The top 5 restaurants are:\n",
    "\n",
    "\n",
    "1.   Shake Shack\t               with 219 orders\n",
    "2.   The Meatball Shop\t         with 132 orders\n",
    "3.   Blue Ribbon Sushi\t         with 119 orders\n",
    "4.   Blue Ribbon Fried Chicken\t with 96 orders\n",
    "5.   Parm\t                       with 68 orders\n"
   ]
  },
  {
   "cell_type": "markdown",
   "id": "569f0046",
   "metadata": {},
   "source": [
    "**The most popular cuisine on weekends**"
   ]
  },
  {
   "cell_type": "code",
   "execution_count": null,
   "id": "8c1f708f",
   "metadata": {},
   "outputs": [],
   "source": [
    "filter_weekend = df['day_of_the_week'] == 'Weekend'\n",
    "df[filter_weekend]['cuisine_type'].value_counts().head(1)"
   ]
  },
  {
   "cell_type": "markdown",
   "id": "1d8b8530",
   "metadata": {},
   "source": [
    "#### Observations:\n",
    "The most popular cuisine on weekends is the American cuisine."
   ]
  },
  {
   "cell_type": "markdown",
   "id": "3832d568",
   "metadata": {},
   "source": [
    "**Percentage of the orders cost more than 20 dollars**"
   ]
  },
  {
   "cell_type": "code",
   "execution_count": null,
   "id": "30bf2415",
   "metadata": {},
   "outputs": [],
   "source": [
    "filter_cost = df['cost_of_the_order'] > 20\n",
    "df[filter_cost].shape[0] / df.shape[0] * 100"
   ]
  },
  {
   "cell_type": "markdown",
   "id": "9b4878c1",
   "metadata": {},
   "source": [
    "#### Observations:\n",
    "The percentage of the orders cost more than 20 dollars is 29,24%"
   ]
  },
  {
   "cell_type": "markdown",
   "id": "e6f1b89c",
   "metadata": {},
   "source": [
    "**The mean order delivery time**"
   ]
  },
  {
   "cell_type": "code",
   "execution_count": null,
   "id": "2860f666",
   "metadata": {},
   "outputs": [],
   "source": [
    "df['delivery_time'].mean()"
   ]
  },
  {
   "cell_type": "markdown",
   "id": "84660428",
   "metadata": {},
   "source": [
    "#### Observations:\n",
    "The mean order delivery time is 24 min"
   ]
  },
  {
   "cell_type": "markdown",
   "id": "aa15f715",
   "metadata": {},
   "source": [
    "**The top 3 most frequent customers**"
   ]
  },
  {
   "cell_type": "code",
   "execution_count": null,
   "id": "992d9fe2",
   "metadata": {},
   "outputs": [],
   "source": [
    "#Top 3 most frequent customer\n",
    "top_customer = df['customer_id'].value_counts().head(3)\n",
    "print(top_customer)\n",
    "print('-' * 50)\n"
   ]
  },
  {
   "cell_type": "markdown",
   "id": "d73fea18",
   "metadata": {},
   "source": [
    "#### Observations:\n",
    "The top 3 most frequent customers are:\n",
    "1.   Customer ID 52832   with  13 orders.\n",
    "2.   Customer ID 47440   with 10 orders.\n",
    "3.   Customer ID 83287   with  9 orders.\n"
   ]
  }
 ],
 "metadata": {
  "kernelspec": {
   "display_name": "Python (ds-env)",
   "language": "python",
   "name": "venv"
  },
  "language_info": {
   "codemirror_mode": {
    "name": "ipython",
    "version": 3
   },
   "file_extension": ".py",
   "mimetype": "text/x-python",
   "name": "python",
   "nbconvert_exporter": "python",
   "pygments_lexer": "ipython3",
   "version": "3.9.13"
  }
 },
 "nbformat": 4,
 "nbformat_minor": 5
}
